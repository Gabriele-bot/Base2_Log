{
 "cells": [
  {
   "cell_type": "code",
   "execution_count": 448,
   "metadata": {},
   "outputs": [],
   "source": [
    "from pynq import Overlay\n",
    "overlay = Overlay('/home/xilinx/pynq/overlays/User_overlay/LOG_TE.bit')"
   ]
  },
  {
   "cell_type": "code",
   "execution_count": 449,
   "metadata": {},
   "outputs": [
    {
     "name": "stdout",
     "output_type": "stream",
     "text": [
      "CPU:   650.000000MHz\n",
      "FCLK0: 62.500000MHz\n",
      "FCLK1: 100.000000MHz\n",
      "FCLK2: 100.000000MHz\n",
      "FCLK3: 100.000000MHz\n"
     ]
    }
   ],
   "source": [
    "from pynq import Clocks\n",
    "\n",
    "print(f'CPU:   {Clocks.cpu_mhz:.6f}MHz')\n",
    "print(f'FCLK0: {Clocks.fclk0_mhz:.6f}MHz')\n",
    "print(f'FCLK1: {Clocks.fclk1_mhz:.6f}MHz')\n",
    "print(f'FCLK2: {Clocks.fclk2_mhz:.6f}MHz')\n",
    "print(f'FCLK3: {Clocks.fclk3_mhz:.6f}MHz')"
   ]
  },
  {
   "cell_type": "code",
   "execution_count": 450,
   "metadata": {},
   "outputs": [
    {
     "name": "stdout",
     "output_type": "stream",
     "text": [
      "CPU:   650.000000MHz\n",
      "FCLK0: 125.000000MHz\n",
      "FCLK1: 100.000000MHz\n",
      "FCLK2: 100.000000MHz\n",
      "FCLK3: 100.000000MHz\n"
     ]
    }
   ],
   "source": [
    "Clocks.fclk0_mhz = 125\n",
    "\n",
    "print(f'CPU:   {Clocks.cpu_mhz:.6f}MHz')\n",
    "print(f'FCLK0: {Clocks.fclk0_mhz:.6f}MHz')\n",
    "print(f'FCLK1: {Clocks.fclk1_mhz:.6f}MHz')\n",
    "print(f'FCLK2: {Clocks.fclk2_mhz:.6f}MHz')\n",
    "print(f'FCLK3: {Clocks.fclk3_mhz:.6f}MHz')"
   ]
  },
  {
   "cell_type": "code",
   "execution_count": 451,
   "metadata": {},
   "outputs": [],
   "source": [
    "import pynq.lib.dma\n",
    "import numpy as np\n",
    "from pynq import Xlnk\n",
    "\n",
    "dma = overlay.axi_dma_0"
   ]
  },
  {
   "cell_type": "code",
   "execution_count": 452,
   "metadata": {},
   "outputs": [
    {
     "data": {
      "text/plain": [
       "False"
      ]
     },
     "execution_count": 452,
     "metadata": {},
     "output_type": "execute_result"
    }
   ],
   "source": [
    "dma.recvchannel.idle"
   ]
  },
  {
   "cell_type": "markdown",
   "metadata": {},
   "source": [
    "## Programmable logic"
   ]
  },
  {
   "cell_type": "code",
   "execution_count": 453,
   "metadata": {},
   "outputs": [
    {
     "name": "stdout",
     "output_type": "stream",
     "text": [
      "1048576 samples\n"
     ]
    }
   ],
   "source": [
    "from pynq import allocate\n",
    "\n",
    "n = 2**20\n",
    "print('%d samples' % n)\n",
    "input_buffer = allocate(shape=(n,), dtype=np.uint64)\n",
    "output_buffer= allocate(shape=(n,), dtype=np.uint32)"
   ]
  },
  {
   "cell_type": "code",
   "execution_count": 454,
   "metadata": {},
   "outputs": [],
   "source": [
    "# generate the inputs\n",
    "input_value = np.random.randint(1,2**63-1,n, dtype=np.uint64)\n",
    "#input_value = np.ones(n)*980224589148123649\n",
    "# convert into int64\n",
    "input_value = input_value.astype(np.uint64)\n",
    "# load to the input buffer\n",
    "np.copyto(input_buffer,input_value)"
   ]
  },
  {
   "cell_type": "markdown",
   "metadata": {},
   "source": [
    "##  Computation time"
   ]
  },
  {
   "cell_type": "code",
   "execution_count": 455,
   "metadata": {},
   "outputs": [
    {
     "name": "stdout",
     "output_type": "stream",
     "text": [
      "0.011386871337890625\n"
     ]
    }
   ],
   "source": [
    "import time\n",
    "time_s=time.time()\n",
    "dma.sendchannel.transfer(input_buffer)\n",
    "dma.recvchannel.transfer(output_buffer)\n",
    "\n",
    "dma.sendchannel.wait()\n",
    "dma.recvchannel.wait()\n",
    "time_pl=time.time()-time_s\n",
    "print(time_pl)"
   ]
  },
  {
   "cell_type": "code",
   "execution_count": 456,
   "metadata": {},
   "outputs": [],
   "source": [
    "#Conversion from fixed point to readable number\n",
    "out_pl=output_buffer/(2**10)"
   ]
  },
  {
   "cell_type": "markdown",
   "metadata": {},
   "source": [
    "## Processor computation time"
   ]
  },
  {
   "cell_type": "code",
   "execution_count": 457,
   "metadata": {},
   "outputs": [
    {
     "name": "stdout",
     "output_type": "stream",
     "text": [
      "0.3762171268463135\n"
     ]
    }
   ],
   "source": [
    "import time\n",
    "time_s=time.time()\n",
    "out_ps=np.log2(input_value)\n",
    "time_ps=time.time()-time_s\n",
    "print(time_ps)"
   ]
  },
  {
   "cell_type": "markdown",
   "metadata": {},
   "source": [
    "### Computation time comparison"
   ]
  },
  {
   "cell_type": "code",
   "execution_count": 458,
   "metadata": {},
   "outputs": [
    {
     "name": "stdout",
     "output_type": "stream",
     "text": [
      "1048576 input samples\n",
      "PL computation time = 0.011387 s\n",
      "PS computation time = 0.376217 s\n",
      "PL is 33.039552 times faster than the PS\n"
     ]
    }
   ],
   "source": [
    "print(\"%d input samples\" % n)\n",
    "print(\"PL computation time = %f s\" % time_pl)\n",
    "print(\"PS computation time = %f s\" % time_ps)\n",
    "print(\"PL is %f times faster than the PS\" % (time_ps/time_pl))"
   ]
  },
  {
   "cell_type": "markdown",
   "metadata": {},
   "source": [
    "## Error evaluation"
   ]
  },
  {
   "cell_type": "code",
   "execution_count": 459,
   "metadata": {},
   "outputs": [
    {
     "data": {
      "image/png": "[encoded data removed]",
      "text/plain": [
       "<matplotlib.figure.Figure at 0xad752730>"
      ]
     },
     "metadata": {},
     "output_type": "display_data"
    }
   ],
   "source": [
    "import matplotlib.pyplot as plt\n",
    "\n",
    "input_value_sort = np.sort(input_value, kind='heapsort')\n",
    "out_ps_sort      = np.sort(out_ps     , kind='heapsort')\n",
    "\n",
    "plt.plot(input_value    ,out_pl      , '.', markersize=0.8, label=\"PL\")\n",
    "plt.plot(input_value_sort,out_ps_sort, '-', label=\"PS\")\n",
    "\n",
    "#plt.xlim(0.45e19,0.95e19)\n",
    "#plt.ylim(61.5,63.5)\n",
    "\n",
    "plt.legend()\n",
    "plt.grid(True)\n",
    "plt.show()"
   ]
  },
  {
   "cell_type": "code",
   "execution_count": 460,
   "metadata": {},
   "outputs": [],
   "source": [
    "error_a = (out_pl-out_ps)\n",
    "error_r = (out_pl-out_ps)/out_ps"
   ]
  },
  {
   "cell_type": "markdown",
   "metadata": {},
   "source": [
    "### Relative error distribution"
   ]
  },
  {
   "cell_type": "code",
   "execution_count": 461,
   "metadata": {},
   "outputs": [
    {
     "data": {
      "image/png": "[encoded data removed]",
      "text/plain": [
       "<matplotlib.figure.Figure at 0xad2d89d0>"
      ]
     },
     "metadata": {},
     "output_type": "display_data"
    }
   ],
   "source": [
    "plt.hist(error_r,bins=120)\n",
    "plt.semilogy()\n",
    "plt.grid(True)\n",
    "plt.show()"
   ]
  },
  {
   "cell_type": "code",
   "execution_count": 462,
   "metadata": {},
   "outputs": [
    {
     "name": "stdout",
     "output_type": "stream",
     "text": [
      "Mean relative error distribution               = 0.000058 \n",
      "Standard deviation relative error distribution = 0.001026 \n"
     ]
    }
   ],
   "source": [
    "print(\"Mean relative error distribution               = %f \" % np.mean(error_r))\n",
    "print(\"Standard deviation relative error distribution = %f \" % np.std(error_r))"
   ]
  },
  {
   "cell_type": "markdown",
   "metadata": {},
   "source": [
    "### Absolute error distribution"
   ]
  },
  {
   "cell_type": "code",
   "execution_count": 463,
   "metadata": {},
   "outputs": [
    {
     "data": {
      "image/png": "[encoded data removed]",
      "text/plain": [
       "<matplotlib.figure.Figure at 0xaed30670>"
      ]
     },
     "metadata": {},
     "output_type": "display_data"
    }
   ],
   "source": [
    "plt.hist(error_a,bins=120)\n",
    "plt.semilogy()\n",
    "plt.grid(True)\n",
    "plt.show()"
   ]
  },
  {
   "cell_type": "code",
   "execution_count": 464,
   "metadata": {},
   "outputs": [
    {
     "name": "stdout",
     "output_type": "stream",
     "text": [
      "Mean absolute error distribution               = 0.003569 \n",
      "Standard deviation absolute error distribution = 0.063442 \n"
     ]
    }
   ],
   "source": [
    "print(\"Mean absolute error distribution               = %f \" % np.mean(error_a))\n",
    "print(\"Standard deviation absolute error distribution = %f \" % np.std(error_a))"
   ]
  },
  {
   "cell_type": "code",
   "execution_count": 467,
   "metadata": {},
   "outputs": [
    {
     "data": {
      "text/plain": [
       "(array([], dtype=int32),)"
      ]
     },
     "execution_count": 467,
     "metadata": {},
     "output_type": "execute_result"
    }
   ],
   "source": [
    "# looking for errors\n",
    "np.where(np.abs(error_a)>5*np.std(error_a))"
   ]
  },
  {
   "cell_type": "code",
   "execution_count": 485,
   "metadata": {},
   "outputs": [],
   "source": [
    "import matplotlib.pyplot as plt\n",
    "from pynq import Overlay\n",
    "overlay = Overlay('/home/xilinx/pynq/overlays/User_overlay/LOG_LUT1.bit')"
   ]
  },
  {
   "cell_type": "code",
   "execution_count": 486,
   "metadata": {},
   "outputs": [
    {
     "name": "stdout",
     "output_type": "stream",
     "text": [
      "CPU:   650.000000MHz\n",
      "FCLK0: 62.500000MHz\n",
      "FCLK1: 100.000000MHz\n",
      "FCLK2: 100.000000MHz\n",
      "FCLK3: 100.000000MHz\n"
     ]
    }
   ],
   "source": [
    "from pynq import Clocks\n",
    "\n",
    "print(f'CPU:   {Clocks.cpu_mhz:.6f}MHz')\n",
    "print(f'FCLK0: {Clocks.fclk0_mhz:.6f}MHz')\n",
    "print(f'FCLK1: {Clocks.fclk1_mhz:.6f}MHz')\n",
    "print(f'FCLK2: {Clocks.fclk2_mhz:.6f}MHz')\n",
    "print(f'FCLK3: {Clocks.fclk3_mhz:.6f}MHz')"
   ]
  },
  {
   "cell_type": "code",
   "execution_count": 487,
   "metadata": {},
   "outputs": [
    {
     "name": "stdout",
     "output_type": "stream",
     "text": [
      "CPU:   650.000000MHz\n",
      "FCLK0: 125.000000MHz\n",
      "FCLK1: 100.000000MHz\n",
      "FCLK2: 100.000000MHz\n",
      "FCLK3: 100.000000MHz\n"
     ]
    }
   ],
   "source": [
    "Clocks.fclk0_mhz = 125\n",
    "\n",
    "print(f'CPU:   {Clocks.cpu_mhz:.6f}MHz')\n",
    "print(f'FCLK0: {Clocks.fclk0_mhz:.6f}MHz')\n",
    "print(f'FCLK1: {Clocks.fclk1_mhz:.6f}MHz')\n",
    "print(f'FCLK2: {Clocks.fclk2_mhz:.6f}MHz')\n",
    "print(f'FCLK3: {Clocks.fclk3_mhz:.6f}MHz')"
   ]
  },
  {
   "cell_type": "code",
   "execution_count": 488,
   "metadata": {},
   "outputs": [],
   "source": [
    "import pynq.lib.dma\n",
    "import numpy as np\n",
    "from pynq import Xlnk\n",
    "\n",
    "dma = overlay.axi_dma_0"
   ]
  },
  {
   "cell_type": "code",
   "execution_count": 489,
   "metadata": {},
   "outputs": [
    {
     "name": "stdout",
     "output_type": "stream",
     "text": [
      "1048576 samples\n"
     ]
    }
   ],
   "source": [
    "from pynq import allocate\n",
    "\n",
    "n = 2**20\n",
    "print('%d samples' % n)\n",
    "input_buffer = allocate(shape=(n,), dtype=np.uint64)\n",
    "output_buffer= allocate(shape=(n,), dtype=np.uint16)"
   ]
  },
  {
   "cell_type": "code",
   "execution_count": 490,
   "metadata": {},
   "outputs": [],
   "source": [
    "# generate the inputs\n",
    "input_value = np.random.randint(1,2**64-1,n, dtype=np.uint64)\n",
    "# convert into int64\n",
    "input_value = input_value.astype(np.uint64)\n",
    "# load to the input buffer\n",
    "np.copyto(input_buffer,input_value)"
   ]
  },
  {
   "cell_type": "code",
   "execution_count": 491,
   "metadata": {},
   "outputs": [
    {
     "name": "stdout",
     "output_type": "stream",
     "text": [
      "0.011411428451538086\n"
     ]
    }
   ],
   "source": [
    "import time\n",
    "time_s=time.time()\n",
    "dma.sendchannel.transfer(input_buffer)\n",
    "dma.recvchannel.transfer(output_buffer)\n",
    "\n",
    "dma.sendchannel.wait()\n",
    "dma.recvchannel.wait()\n",
    "time_pl=time.time()-time_s\n",
    "print(time_pl)"
   ]
  },
  {
   "cell_type": "code",
   "execution_count": 492,
   "metadata": {},
   "outputs": [],
   "source": [
    "#Conversion from fixed point to readable number\n",
    "out_pl=output_buffer/(2**10)"
   ]
  },
  {
   "cell_type": "code",
   "execution_count": 493,
   "metadata": {},
   "outputs": [
    {
     "name": "stdout",
     "output_type": "stream",
     "text": [
      "0.37958860397338867\n"
     ]
    }
   ],
   "source": [
    "import time\n",
    "time_s=time.time()\n",
    "out_ps=np.log2(input_value)\n",
    "time_ps=time.time()-time_s\n",
    "print(time_ps)"
   ]
  },
  {
   "cell_type": "code",
   "execution_count": 494,
   "metadata": {},
   "outputs": [
    {
     "name": "stdout",
     "output_type": "stream",
     "text": [
      "1048576 input samples\n",
      "PL computation time = 0.011411 s\n",
      "PS computation time = 0.379589 s\n",
      "PL is 33.263899 times faster than the PS\n"
     ]
    }
   ],
   "source": [
    "print(\"%d input samples\" % n)\n",
    "print(\"PL computation time = %f s\" % time_pl)\n",
    "print(\"PS computation time = %f s\" % time_ps)\n",
    "print(\"PL is %f times faster than the PS\" % (time_ps/time_pl))"
   ]
  },
  {
   "cell_type": "code",
   "execution_count": 495,
   "metadata": {},
   "outputs": [
    {
     "data": {
      "image/png": "[encoded data removed]",
      "text/plain": [
       "<matplotlib.figure.Figure at 0xaf970430>"
      ]
     },
     "metadata": {},
     "output_type": "display_data"
    }
   ],
   "source": [
    "input_value_sort = np.sort(input_value, kind='heapsort')\n",
    "out_ps_sort      = np.sort(out_ps     , kind='heapsort')\n",
    "\n",
    "plt.plot(input_value    ,out_pl      , '.', markersize=0.8, label=\"PL\")\n",
    "plt.plot(input_value_sort,out_ps_sort, '-', label=\"PS\")\n",
    "\n",
    "plt.legend()\n",
    "plt.grid(True)\n",
    "plt.show()"
   ]
  },
  {
   "cell_type": "code",
   "execution_count": 496,
   "metadata": {},
   "outputs": [],
   "source": [
    "error_a = (out_ps-out_pl)\n",
    "error_r = (out_ps-out_pl)/out_ps"
   ]
  },
  {
   "cell_type": "code",
   "execution_count": 497,
   "metadata": {},
   "outputs": [
    {
     "data": {
      "image/png": "[encoded data removed]",
      "text/plain": [
       "<matplotlib.figure.Figure at 0xaec665d0>"
      ]
     },
     "metadata": {},
     "output_type": "display_data"
    }
   ],
   "source": [
    "plt.hist(error_r,bins=120, range=(np.mean(error_r)-4*np.std(error_r),np.mean(error_r)+4*np.std(error_r)))\n",
    "plt.semilogy()\n",
    "plt.grid(True)\n",
    "plt.show()"
   ]
  },
  {
   "cell_type": "code",
   "execution_count": 498,
   "metadata": {},
   "outputs": [
    {
     "name": "stdout",
     "output_type": "stream",
     "text": [
      "Mean relative error distribution               = 0.000008 \n",
      "Standard deviation relative error distribution = 0.000007 \n"
     ]
    }
   ],
   "source": [
    "print(\"Mean relative error distribution               = %f \" % np.mean(error_r))\n",
    "print(\"Standard deviation relative error distribution = %f \" % np.std(error_r))"
   ]
  },
  {
   "cell_type": "code",
   "execution_count": 499,
   "metadata": {},
   "outputs": [
    {
     "data": {
      "image/png": "[encoded data removed]",
      "text/plain": [
       "<matplotlib.figure.Figure at 0xaceb8310>"
      ]
     },
     "metadata": {},
     "output_type": "display_data"
    }
   ],
   "source": [
    "plt.hist(error_a,bins=120, range=(np.mean(error_a)-4*np.std(error_a),np.mean(error_a)+4*np.std(error_a)))\n",
    "plt.semilogy()\n",
    "plt.grid(True)\n",
    "plt.show()"
   ]
  },
  {
   "cell_type": "code",
   "execution_count": 500,
   "metadata": {},
   "outputs": [
    {
     "name": "stdout",
     "output_type": "stream",
     "text": [
      "Mean absolute error distribution               = 0.000493 \n",
      "Standard deviation absolute error distribution = 0.000456 \n"
     ]
    }
   ],
   "source": [
    "print(\"Mean absolute error distribution               = %f \" % np.mean(error_a))\n",
    "print(\"Standard deviation absolute error distribution = %f \" % np.std(error_a))"
   ]
  },
  {
   "cell_type": "code",
   "execution_count": 502,
   "metadata": {},
   "outputs": [
    {
     "data": {
      "text/plain": [
       "(array([74], dtype=int32),)"
      ]
     },
     "execution_count": 502,
     "metadata": {},
     "output_type": "execute_result"
    }
   ],
   "source": [
    "# looking for errors\n",
    "np.where(np.abs(error_a)>5*np.std(error_a))"
   ]
  },
  {
   "cell_type": "code",
   "execution_count": null,
   "metadata": {},
   "outputs": [],
   "source": []
  }
 ],
 "metadata": {
  "kernelspec": {
   "display_name": "Python 3",
   "language": "python",
   "name": "python3"
  },
  "language_info": {
   "codemirror_mode": {
    "name": "ipython",
    "version": 3
   },
   "file_extension": ".py",
   "mimetype": "text/x-python",
   "name": "python",
   "nbconvert_exporter": "python",
   "pygments_lexer": "ipython3",
   "version": "3.6.5"
  }
 },
 "nbformat": 4,
 "nbformat_minor": 2
}
