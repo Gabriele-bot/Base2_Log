{
 "cells": [
  {
   "cell_type": "code",
   "execution_count": 1,
   "metadata": {},
   "outputs": [
    {
     "data": {
      "application/javascript": [
       "\n",
       "try {\n",
       "require(['notebook/js/codecell'], function(codecell) {\n",
       "  codecell.CodeCell.options_default.highlight_modes[\n",
       "      'magic_text/x-csrc'] = {'reg':[/^%%microblaze/]};\n",
       "  Jupyter.notebook.events.one('kernel_ready.Kernel', function(){\n",
       "      Jupyter.notebook.get_cells().map(function(cell){\n",
       "          if (cell.cell_type == 'code'){ cell.auto_highlight(); } }) ;\n",
       "  });\n",
       "});\n",
       "} catch (e) {};\n"
      ]
     },
     "metadata": {},
     "output_type": "display_data"
    },
    {
     "data": {
      "application/javascript": [
       "\n",
       "try {\n",
       "require(['notebook/js/codecell'], function(codecell) {\n",
       "  codecell.CodeCell.options_default.highlight_modes[\n",
       "      'magic_text/x-csrc'] = {'reg':[/^%%pybind11/]};\n",
       "  Jupyter.notebook.events.one('kernel_ready.Kernel', function(){\n",
       "      Jupyter.notebook.get_cells().map(function(cell){\n",
       "          if (cell.cell_type == 'code'){ cell.auto_highlight(); } }) ;\n",
       "  });\n",
       "});\n",
       "} catch (e) {};\n"
      ]
     },
     "metadata": {},
     "output_type": "display_data"
    }
   ],
   "source": [
    "from pynq import Overlay\n",
    "overlay = Overlay('/home/xilinx/pynq/overlays/User_overlay/LOG_TEST.bit')"
   ]
  },
  {
   "cell_type": "code",
   "execution_count": 2,
   "metadata": {},
   "outputs": [],
   "source": [
    "import time\n",
    "import matplotlib.pyplot as plt\n",
    "from pynq import allocate\n",
    "import pynq.lib.dma\n",
    "import numpy as np"
   ]
  },
  {
   "cell_type": "code",
   "execution_count": 3,
   "metadata": {},
   "outputs": [
    {
     "name": "stdout",
     "output_type": "stream",
     "text": [
      "CPU:   650.000000MHz\n",
      "FCLK0: 62.500000MHz\n",
      "FCLK1: 100.000000MHz\n",
      "FCLK2: 100.000000MHz\n",
      "FCLK3: 100.000000MHz\n"
     ]
    }
   ],
   "source": [
    "from pynq import Clocks\n",
    "\n",
    "print(f'CPU:   {Clocks.cpu_mhz:.6f}MHz')\n",
    "print(f'FCLK0: {Clocks.fclk0_mhz:.6f}MHz')\n",
    "print(f'FCLK1: {Clocks.fclk1_mhz:.6f}MHz')\n",
    "print(f'FCLK2: {Clocks.fclk2_mhz:.6f}MHz')\n",
    "print(f'FCLK3: {Clocks.fclk3_mhz:.6f}MHz')"
   ]
  },
  {
   "cell_type": "code",
   "execution_count": 22,
   "metadata": {},
   "outputs": [
    {
     "name": "stdout",
     "output_type": "stream",
     "text": [
      "CPU:   650.000000MHz\n",
      "FCLK0: 166.666667MHz\n",
      "FCLK1: 100.000000MHz\n",
      "FCLK2: 100.000000MHz\n",
      "FCLK3: 100.000000MHz\n"
     ]
    }
   ],
   "source": [
    "Clocks.fclk0_mhz = 166\n",
    "\n",
    "print(f'CPU:   {Clocks.cpu_mhz:.6f}MHz')\n",
    "print(f'FCLK0: {Clocks.fclk0_mhz:.6f}MHz')\n",
    "print(f'FCLK1: {Clocks.fclk1_mhz:.6f}MHz')\n",
    "print(f'FCLK2: {Clocks.fclk2_mhz:.6f}MHz')\n",
    "print(f'FCLK3: {Clocks.fclk3_mhz:.6f}MHz')"
   ]
  },
  {
   "cell_type": "code",
   "execution_count": 7,
   "metadata": {},
   "outputs": [],
   "source": [
    "lut_dma = overlay.LUT_DMA\n",
    "te_dma  = overlay.TE_DMA"
   ]
  },
  {
   "cell_type": "markdown",
   "metadata": {},
   "source": [
    "### Paths"
   ]
  },
  {
   "cell_type": "code",
   "execution_count": 6,
   "metadata": {},
   "outputs": [],
   "source": [
    "import os\n",
    "\n",
    "USER_PATH = os.getcwd()\n",
    "SAVE_PATH = USER_PATH + \"/Plots/\""
   ]
  },
  {
   "cell_type": "markdown",
   "metadata": {},
   "source": [
    "### Settings"
   ]
  },
  {
   "cell_type": "code",
   "execution_count": 7,
   "metadata": {},
   "outputs": [],
   "source": [
    "plt.rc('text', usetex=False)\n",
    "plt.rc('font', family='serif')\n",
    "plt.rc('font', size=16)          # controls default text sizes\n",
    "plt.rc('axes', titlesize=18)     # fontsize of the axes title\n",
    "plt.rc('axes', labelsize=16)     # fontsize of the x and y labels\n",
    "plt.rc('xtick', labelsize=12)    # fontsize of the tick labels\n",
    "plt.rc('ytick', labelsize=12)    # fontsize of the tick labels\n",
    "plt.rc('legend', fontsize=16)    # legend fontsize\n",
    "plt.rc('figure', titlesize=18)   # fontsize of the figure title"
   ]
  },
  {
   "cell_type": "markdown",
   "metadata": {},
   "source": [
    "## Taylor expansion"
   ]
  },
  {
   "cell_type": "markdown",
   "metadata": {},
   "source": [
    "## Programmable logic"
   ]
  },
  {
   "cell_type": "code",
   "execution_count": 5,
   "metadata": {},
   "outputs": [
    {
     "name": "stdout",
     "output_type": "stream",
     "text": [
      "1048576 samples\n"
     ]
    }
   ],
   "source": [
    "n = 2**20\n",
    "print('%d samples' % n)\n",
    "input_buffer = allocate(shape=(n,), dtype=np.uint64)\n",
    "output_buffer= allocate(shape=(n,), dtype=np.uint16)"
   ]
  },
  {
   "cell_type": "code",
   "execution_count": 7,
   "metadata": {},
   "outputs": [],
   "source": [
    "# generate the inputs\n",
    "input_value = np.random.randint(1,2**63-1,n, dtype=np.uint64)\n",
    "#input_value = np.ones(n)*980224589148123649\n",
    "# convert into int64\n",
    "input_value = input_value.astype(np.uint64)\n",
    "# load to the input buffer\n",
    "np.copyto(input_buffer,input_value)"
   ]
  },
  {
   "cell_type": "markdown",
   "metadata": {},
   "source": [
    "##  Computation time"
   ]
  },
  {
   "cell_type": "code",
   "execution_count": 23,
   "metadata": {},
   "outputs": [
    {
     "name": "stdout",
     "output_type": "stream",
     "text": [
      "0.007294917106628418\n"
     ]
    }
   ],
   "source": [
    "time_pl_arr = []\n",
    "for i in range(50):\n",
    "    input_value = np.random.randint(1,2**63-1,n, dtype=np.uint64)\n",
    "    # convert into int64\n",
    "    input_value = input_value.astype(np.uint64)\n",
    "    # load to the input buffer\n",
    "    np.copyto(input_buffer,input_value)\n",
    "    time_s=time.time()\n",
    "    te_dma.sendchannel.transfer(input_buffer)\n",
    "    te_dma.recvchannel.transfer(output_buffer)\n",
    "\n",
    "    te_dma.sendchannel.wait()\n",
    "    te_dma.recvchannel.wait()\n",
    "    time_pl=time.time()-time_s\n",
    "    time_pl_arr.append(time_pl)\n",
    "time_pl = np.mean(time_pl_arr)\n",
    "std_time_pl = np.std(time_pl_arr)\n",
    "print(time_pl)"
   ]
  },
  {
   "cell_type": "code",
   "execution_count": 65,
   "metadata": {},
   "outputs": [],
   "source": [
    "#Conversion from fixed point to readable number\n",
    "out_pl=output_buffer/(2**10)"
   ]
  },
  {
   "cell_type": "markdown",
   "metadata": {},
   "source": [
    "## Processor computation time"
   ]
  },
  {
   "cell_type": "code",
   "execution_count": 18,
   "metadata": {},
   "outputs": [
    {
     "name": "stdout",
     "output_type": "stream",
     "text": [
      "0.36237571239471433\n"
     ]
    }
   ],
   "source": [
    "time_ps_arr = []\n",
    "for i in range(50):\n",
    "    input_value = np.random.randint(1,2**63-1,n, dtype=np.uint64)\n",
    "    time_s=time.time()\n",
    "    out_ps=np.log2(input_value)\n",
    "    time_ps=time.time()-time_s\n",
    "    time_ps_arr.append(time_ps)\n",
    "time_ps = np.mean(time_ps_arr)\n",
    "std_time_ps = np.std(time_ps_arr)\n",
    "print(time_ps)"
   ]
  },
  {
   "cell_type": "markdown",
   "metadata": {},
   "source": [
    "### Computation time comparison"
   ]
  },
  {
   "cell_type": "code",
   "execution_count": 24,
   "metadata": {},
   "outputs": [
    {
     "name": "stdout",
     "output_type": "stream",
     "text": [
      "1048576 input samples\n",
      "PL computation time = 0.007295+/-0.000035 s\n",
      "PS computation time = 0.362376+/-0.000333  s\n",
      "PL computation time per sample = 6.956975e-09+/-3.311879e-11 s\n",
      "PS computation time per sample = 3.455884e-07+/-3.174239e-10 s\n",
      "PL is 49.675097 times faster than the PS\n"
     ]
    }
   ],
   "source": [
    "print(\"%d input samples\" % n)\n",
    "print(\"PL computation time = %f+/-%f s\" % (time_pl, std_time_pl))\n",
    "print(\"PS computation time = %f+/-%f  s\" % (time_ps, std_time_ps))\n",
    "print(\"PL computation time per sample = %e+/-%e s\" % (time_pl/n, std_time_pl/n))\n",
    "print(\"PS computation time per sample = %e+/-%e s\" % (time_ps/n, std_time_ps/n))\n",
    "print(\"PL is %f times faster than the PS\" % (time_ps/time_pl))"
   ]
  },
  {
   "cell_type": "markdown",
   "metadata": {},
   "source": [
    "## Error evaluation"
   ]
  },
  {
   "cell_type": "code",
   "execution_count": 40,
   "metadata": {},
   "outputs": [],
   "source": [
    "input_value_sort = np.sort(input_value, kind='heapsort')\n",
    "out_ps_sort      = np.sort(out_ps     , kind='heapsort')"
   ]
  },
  {
   "cell_type": "code",
   "execution_count": 41,
   "metadata": {},
   "outputs": [
    {
     "data": {
      "image/png": "[encoded data removed]",
      "text/plain": [
       "<matplotlib.figure.Figure at 0xa81d7170>"
      ]
     },
     "metadata": {},
     "output_type": "display_data"
    }
   ],
   "source": [
    "#######################################################################\n",
    "# FIGURE\n",
    "#######################################################################\n",
    "fig = plt.figure(figsize=(10,4))\n",
    "# plt.axes(axisbelow=True)\n",
    "\n",
    "\n",
    "\n",
    "#######################################################################\n",
    "##### TOP PANEL\n",
    "#######################################################################\n",
    "fig.add_axes((0.,0.35,1.0,1.0))\n",
    "\n",
    "\n",
    "\n",
    "plt.plot(input_value    ,out_pl      , '.', label=\"PL\")\n",
    "plt.plot(input_value_sort,out_ps_sort, '-', label=\"PS\")\n",
    "plt.title('PYNQ: Taylor expasnion result')\n",
    "plt.xlabel('Input')\n",
    "plt.ylabel('Log$_2$ result')\n",
    "plt.grid(True)\n",
    "plt.legend()\n",
    "\n",
    "#######################################################################\n",
    "##### SAVE FIGURE\n",
    "#######################################################################\n",
    "fig.savefig(SAVE_PATH + \"PYNQ_TE_res\", bbox_inches='tight')\n",
    "#######################################################################\n",
    "\n",
    "plt.show()"
   ]
  },
  {
   "cell_type": "code",
   "execution_count": 42,
   "metadata": {},
   "outputs": [],
   "source": [
    "error_a = (out_ps-out_pl)\n",
    "error_r = (out_ps-out_pl)/out_ps"
   ]
  },
  {
   "cell_type": "markdown",
   "metadata": {},
   "source": [
    "### Relative error distribution"
   ]
  },
  {
   "cell_type": "code",
   "execution_count": 43,
   "metadata": {},
   "outputs": [
    {
     "name": "stdout",
     "output_type": "stream",
     "text": [
      "Find 1 error/s\n",
      "(array([75], dtype=int32),)\n"
     ]
    }
   ],
   "source": [
    "# looking for errors\n",
    "outlier   = np.where(np.abs(error_a)>5*np.std(error_a))\n",
    "error_a_d = np.delete(error_a,outlier)\n",
    "error_r_d = np.delete(error_r,outlier)\n",
    "print(\"Find %d error/s\" % np.shape(outlier)[0])\n",
    "print(outlier)"
   ]
  },
  {
   "cell_type": "code",
   "execution_count": 44,
   "metadata": {},
   "outputs": [
    {
     "data": {
      "image/png": "[encoded data removed]",
      "text/plain": [
       "<matplotlib.figure.Figure at 0xaa657a90>"
      ]
     },
     "metadata": {},
     "output_type": "display_data"
    }
   ],
   "source": [
    "plt.hist(error_r_d,bins=120)\n",
    "plt.semilogy()\n",
    "plt.grid(True)\n",
    "plt.show()"
   ]
  },
  {
   "cell_type": "code",
   "execution_count": 45,
   "metadata": {},
   "outputs": [
    {
     "name": "stdout",
     "output_type": "stream",
     "text": [
      "Mean relative error distribution               = -0.000697 \n",
      "Standard deviation relative error distribution = 0.000897 \n"
     ]
    }
   ],
   "source": [
    "print(\"Mean relative error distribution               = %f \" % np.mean(error_r_d))\n",
    "print(\"Standard deviation relative error distribution = %f \" % np.std(error_r_d))"
   ]
  },
  {
   "cell_type": "markdown",
   "metadata": {},
   "source": [
    "### Absolute error distribution"
   ]
  },
  {
   "cell_type": "code",
   "execution_count": 46,
   "metadata": {},
   "outputs": [
    {
     "data": {
      "image/png": "[encoded data removed]",
      "text/plain": [
       "<matplotlib.figure.Figure at 0xade667b0>"
      ]
     },
     "metadata": {},
     "output_type": "display_data"
    }
   ],
   "source": [
    "#######################################################################\n",
    "# FIGURE\n",
    "#######################################################################\n",
    "fig = plt.figure(figsize=(10,4))\n",
    "# plt.axes(axisbelow=True)\n",
    "\n",
    "#######################################################################\n",
    "##### TOP PANEL\n",
    "#######################################################################\n",
    "fig.add_axes((0.,0.35,1.0,1.0))\n",
    "\n",
    "plt.hist(error_a_d,bins=120)\n",
    "plt.title('PYNQ: Taylor expansion error distribution')\n",
    "plt.xlabel('Error')\n",
    "plt.semilogy()\n",
    "plt.grid(True)\n",
    "\n",
    "#######################################################################\n",
    "##### SAVE FIGURE\n",
    "#######################################################################\n",
    "fig.savefig(SAVE_PATH + \"PYNQ_TE_LOG_error\", bbox_inches='tight')\n",
    "#######################################################################\n",
    "\n",
    "plt.show()"
   ]
  },
  {
   "cell_type": "code",
   "execution_count": 47,
   "metadata": {},
   "outputs": [
    {
     "name": "stdout",
     "output_type": "stream",
     "text": [
      "Mean absolute error distribution               = -0.043071 \n",
      "Standard deviation absolute error distribution = 0.055538 \n"
     ]
    }
   ],
   "source": [
    "print(\"Mean absolute error distribution               = %f \" % np.mean(error_a_d))\n",
    "print(\"Standard deviation absolute error distribution = %f \" % np.std(error_a_d))"
   ]
  },
  {
   "cell_type": "code",
   "execution_count": 25,
   "metadata": {},
   "outputs": [
    {
     "name": "stdout",
     "output_type": "stream",
     "text": [
      "0.007325706481933594\n"
     ]
    }
   ],
   "source": [
    "time_pl_arr = []\n",
    "for i in range(50):\n",
    "    input_value = np.random.randint(1,2**63-1,n, dtype=np.uint64)\n",
    "    # convert into int64\n",
    "    input_value = input_value.astype(np.uint64)\n",
    "    # load to the input buffer\n",
    "    np.copyto(input_buffer,input_value)\n",
    "    time_s=time.time()\n",
    "    lut_dma.sendchannel.transfer(input_buffer)\n",
    "    lut_dma.recvchannel.transfer(output_buffer)\n",
    "\n",
    "    lut_dma.sendchannel.wait()\n",
    "    lut_dma.recvchannel.wait()\n",
    "    time_pl=time.time()-time_s\n",
    "    time_pl_arr.append(time_pl)\n",
    "time_pl = np.mean(time_pl_arr)\n",
    "std_time_pl = np.std(time_pl_arr)\n",
    "print(time_pl)"
   ]
  },
  {
   "cell_type": "code",
   "execution_count": 49,
   "metadata": {},
   "outputs": [],
   "source": [
    "#Conversion from fixed point to readable number\n",
    "out_pl=output_buffer/(2**10)"
   ]
  },
  {
   "cell_type": "code",
   "execution_count": 9,
   "metadata": {},
   "outputs": [
    {
     "name": "stdout",
     "output_type": "stream",
     "text": [
      "0.36203556060791015\n"
     ]
    }
   ],
   "source": [
    "time_ps_arr = []\n",
    "for i in range(20):\n",
    "    time_s=time.time()\n",
    "    out_ps=np.log2(input_value)\n",
    "    time_ps=time.time()-time_s\n",
    "    time_ps_arr.append(time_ps)\n",
    "time_ps = np.mean(time_ps_arr)\n",
    "std_time_ps = np.std(time_ps_arr)\n",
    "print(time_ps)"
   ]
  },
  {
   "cell_type": "code",
   "execution_count": 26,
   "metadata": {},
   "outputs": [
    {
     "name": "stdout",
     "output_type": "stream",
     "text": [
      "1048576 input samples\n",
      "PL computation time = 0.007326+/-0.000070 s\n",
      "PS computation time = 0.362376+/-0.000333  s\n",
      "PL computation time per sample = 6.986338e-09+/-6.636384e-11 s\n",
      "PS computation time per sample = 3.455884e-07+/-3.174239e-10 s\n",
      "PL is 49.466316 times faster than the PS\n"
     ]
    }
   ],
   "source": [
    "print(\"%d input samples\" % n)\n",
    "print(\"PL computation time = %f+/-%f s\" % (time_pl, std_time_pl))\n",
    "print(\"PS computation time = %f+/-%f  s\" % (time_ps, std_time_ps))\n",
    "print(\"PL computation time per sample = %e+/-%e s\" % (time_pl/n, std_time_pl/n))\n",
    "print(\"PS computation time per sample = %e+/-%e s\" % (time_ps/n, std_time_ps/n))\n",
    "print(\"PL is %f times faster than the PS\" % (time_ps/time_pl))"
   ]
  },
  {
   "cell_type": "code",
   "execution_count": 52,
   "metadata": {},
   "outputs": [],
   "source": [
    "input_value_sort = np.sort(input_value, kind='heapsort')\n",
    "out_ps_sort      = np.sort(out_ps     , kind='heapsort')"
   ]
  },
  {
   "cell_type": "code",
   "execution_count": 53,
   "metadata": {},
   "outputs": [
    {
     "data": {
      "image/png": "[encoded data removed]",
      "text/plain": [
       "<matplotlib.figure.Figure at 0xaa42c350>"
      ]
     },
     "metadata": {},
     "output_type": "display_data"
    }
   ],
   "source": [
    "#######################################################################\n",
    "# FIGURE\n",
    "#######################################################################\n",
    "fig = plt.figure(figsize=(10,4))\n",
    "# plt.axes(axisbelow=True)\n",
    "\n",
    "\n",
    "\n",
    "#######################################################################\n",
    "##### TOP PANEL\n",
    "#######################################################################\n",
    "fig.add_axes((0.,0.35,1.0,1.0))\n",
    "\n",
    "\n",
    "\n",
    "plt.plot(input_value    ,out_pl      , '.', label=\"PL\")\n",
    "plt.plot(input_value_sort,out_ps_sort, '-', label=\"PS\")\n",
    "plt.title('PYNQ: LUT result')\n",
    "plt.xlabel('Input')\n",
    "plt.ylabel('Log$_2$ result')\n",
    "plt.grid(True)\n",
    "plt.legend()\n",
    "\n",
    "#######################################################################\n",
    "##### SAVE FIGURE\n",
    "#######################################################################\n",
    "fig.savefig(SAVE_PATH + \"PYNQ_LUT_res\", bbox_inches='tight')\n",
    "#######################################################################\n",
    "\n",
    "plt.show()"
   ]
  },
  {
   "cell_type": "code",
   "execution_count": 54,
   "metadata": {},
   "outputs": [],
   "source": [
    "error_a = (out_ps-out_pl)\n",
    "error_r = (out_ps-out_pl)/out_ps"
   ]
  },
  {
   "cell_type": "code",
   "execution_count": 55,
   "metadata": {},
   "outputs": [
    {
     "name": "stdout",
     "output_type": "stream",
     "text": [
      "Find 1 error/s\n",
      "(array([74], dtype=int32),)\n"
     ]
    }
   ],
   "source": [
    "# looking for errors\n",
    "outlier   = np.where(np.abs(error_a)>5*np.std(error_a))\n",
    "error_a_d = np.delete(error_a,outlier)\n",
    "error_r_d = np.delete(error_r,outlier)\n",
    "print(\"Find %d error/s\" % np.shape(outlier)[0])\n",
    "print(outlier)"
   ]
  },
  {
   "cell_type": "code",
   "execution_count": 56,
   "metadata": {},
   "outputs": [
    {
     "data": {
      "image/png": "[encoded data removed]",
      "text/plain": [
       "<matplotlib.figure.Figure at 0xaa9206f0>"
      ]
     },
     "metadata": {},
     "output_type": "display_data"
    }
   ],
   "source": [
    "plt.hist(error_r_d,bins=120)\n",
    "plt.semilogy()\n",
    "plt.grid(True)\n",
    "plt.show()"
   ]
  },
  {
   "cell_type": "code",
   "execution_count": 57,
   "metadata": {},
   "outputs": [
    {
     "name": "stdout",
     "output_type": "stream",
     "text": [
      "Mean relative error distribution               = 0.000008 \n",
      "Standard deviation relative error distribution = 0.000007 \n"
     ]
    }
   ],
   "source": [
    "print(\"Mean relative error distribution               = %f \" % np.mean(error_r_d))\n",
    "print(\"Standard deviation relative error distribution = %f \" % np.std(error_r_d))"
   ]
  },
  {
   "cell_type": "code",
   "execution_count": 58,
   "metadata": {},
   "outputs": [
    {
     "data": {
      "image/png": "[encoded data removed]",
      "text/plain": [
       "<matplotlib.figure.Figure at 0xa83acdd0>"
      ]
     },
     "metadata": {},
     "output_type": "display_data"
    }
   ],
   "source": [
    "#######################################################################\n",
    "# FIGURE\n",
    "#######################################################################\n",
    "fig = plt.figure(figsize=(10,4))\n",
    "# plt.axes(axisbelow=True)\n",
    "\n",
    "#######################################################################\n",
    "##### TOP PANEL\n",
    "#######################################################################\n",
    "fig.add_axes((0.,0.35,1.0,1.0))\n",
    "\n",
    "plt.hist(error_a_d,bins=120)\n",
    "plt.title('PYNQ: LUT error distribution')\n",
    "plt.xlabel('Error')\n",
    "plt.semilogy()\n",
    "plt.grid(True)\n",
    "\n",
    "#######################################################################\n",
    "##### SAVE FIGURE\n",
    "#######################################################################\n",
    "fig.savefig(SAVE_PATH + \"PYNQ_LUT_LOG_error\", bbox_inches='tight')\n",
    "#######################################################################\n",
    "\n",
    "plt.show()"
   ]
  },
  {
   "cell_type": "code",
   "execution_count": 59,
   "metadata": {},
   "outputs": [
    {
     "name": "stdout",
     "output_type": "stream",
     "text": [
      "Mean absolute error distribution               = 0.000493 \n",
      "Standard deviation absolute error distribution = 0.000413 \n"
     ]
    }
   ],
   "source": [
    "print(\"Mean absolute error distribution               = %f \" % np.mean(error_a_d))\n",
    "print(\"Standard deviation absolute error distribution = %f \" % np.std(error_a_d))"
   ]
  },
  {
   "cell_type": "code",
   "execution_count": null,
   "metadata": {},
   "outputs": [],
   "source": []
  },
  {
   "cell_type": "code",
   "execution_count": null,
   "metadata": {},
   "outputs": [],
   "source": []
  }
 ],
 "metadata": {
  "kernelspec": {
   "display_name": "Python 3",
   "language": "python",
   "name": "python3"
  },
  "language_info": {
   "codemirror_mode": {
    "name": "ipython",
    "version": 3
   },
   "file_extension": ".py",
   "mimetype": "text/x-python",
   "name": "python",
   "nbconvert_exporter": "python",
   "pygments_lexer": "ipython3",
   "version": "3.6.5"
  }
 },
 "nbformat": 4,
 "nbformat_minor": 2
}
