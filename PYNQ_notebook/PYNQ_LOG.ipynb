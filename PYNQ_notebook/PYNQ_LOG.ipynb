{
 "cells": [
  {
   "cell_type": "code",
   "execution_count": 19,
   "metadata": {},
   "outputs": [],
   "source": [
    "from pynq import Overlay\n",
    "overlay = Overlay('/home/xilinx/pynq/overlays/User_overlay/LOG_overlay.bit')"
   ]
  },
  {
   "cell_type": "code",
   "execution_count": 60,
   "metadata": {},
   "outputs": [],
   "source": [
    "import time\n",
    "import matplotlib.pyplot as plt\n",
    "from pynq import allocate\n",
    "import pynq.lib.dma\n",
    "import numpy as np\n",
    "import sys\n",
    "\n",
    "np.random.seed(420)"
   ]
  },
  {
   "cell_type": "code",
   "execution_count": 61,
   "metadata": {},
   "outputs": [
    {
     "name": "stdout",
     "output_type": "stream",
     "text": [
      "CPU:   650.000000MHz\n",
      "FCLK0: 166.666667MHz\n",
      "FCLK1: 100.000000MHz\n",
      "FCLK2: 100.000000MHz\n",
      "FCLK3: 100.000000MHz\n"
     ]
    }
   ],
   "source": [
    "from pynq import Clocks\n",
    "\n",
    "print(f'CPU:   {Clocks.cpu_mhz:.6f}MHz')\n",
    "print(f'FCLK0: {Clocks.fclk0_mhz:.6f}MHz')\n",
    "print(f'FCLK1: {Clocks.fclk1_mhz:.6f}MHz')\n",
    "print(f'FCLK2: {Clocks.fclk2_mhz:.6f}MHz')\n",
    "print(f'FCLK3: {Clocks.fclk3_mhz:.6f}MHz')"
   ]
  },
  {
   "cell_type": "code",
   "execution_count": 62,
   "metadata": {},
   "outputs": [
    {
     "name": "stdout",
     "output_type": "stream",
     "text": [
      "CPU:   650.000000MHz\n",
      "FCLK0: 166.666667MHz\n",
      "FCLK1: 100.000000MHz\n",
      "FCLK2: 100.000000MHz\n",
      "FCLK3: 100.000000MHz\n"
     ]
    }
   ],
   "source": [
    "Clocks.fclk0_mhz = 166\n",
    "\n",
    "print(f'CPU:   {Clocks.cpu_mhz:.6f}MHz')\n",
    "print(f'FCLK0: {Clocks.fclk0_mhz:.6f}MHz')\n",
    "print(f'FCLK1: {Clocks.fclk1_mhz:.6f}MHz')\n",
    "print(f'FCLK2: {Clocks.fclk2_mhz:.6f}MHz')\n",
    "print(f'FCLK3: {Clocks.fclk3_mhz:.6f}MHz')"
   ]
  },
  {
   "cell_type": "code",
   "execution_count": 63,
   "metadata": {},
   "outputs": [],
   "source": [
    "lut_dma  = overlay.LUT_DMA\n",
    "te_dma   = overlay.TE_DMA\n",
    "poly_dma = overlay.POLY_DMA"
   ]
  },
  {
   "cell_type": "markdown",
   "metadata": {},
   "source": [
    "### Paths"
   ]
  },
  {
   "cell_type": "code",
   "execution_count": 64,
   "metadata": {},
   "outputs": [],
   "source": [
    "import os\n",
    "\n",
    "USER_PATH = os.getcwd()\n",
    "SAVE_PATH = USER_PATH + \"/Plots/\""
   ]
  },
  {
   "cell_type": "markdown",
   "metadata": {},
   "source": [
    "### Settings"
   ]
  },
  {
   "cell_type": "code",
   "execution_count": 65,
   "metadata": {},
   "outputs": [],
   "source": [
    "plt.rc('text', usetex=False)\n",
    "plt.rc('font', family='serif')\n",
    "plt.rc('font', size=16)          # controls default text sizes\n",
    "plt.rc('axes', titlesize=18)     # fontsize of the axes title\n",
    "plt.rc('axes', labelsize=16)     # fontsize of the x and y labels\n",
    "plt.rc('xtick', labelsize=12)    # fontsize of the tick labels\n",
    "plt.rc('ytick', labelsize=12)    # fontsize of the tick labels\n",
    "plt.rc('legend', fontsize=16)    # legend fontsize\n",
    "plt.rc('figure', titlesize=18)   # fontsize of the figure title"
   ]
  },
  {
   "cell_type": "markdown",
   "metadata": {},
   "source": [
    "## Programmable logic"
   ]
  },
  {
   "cell_type": "code",
   "execution_count": 66,
   "metadata": {},
   "outputs": [
    {
     "name": "stdout",
     "output_type": "stream",
     "text": [
      "1048576 samples\n"
     ]
    }
   ],
   "source": [
    "n = 2**20\n",
    "print('%d samples' % n)\n",
    "input_buffer = allocate(shape=(n,), dtype=np.uint64)\n",
    "output_buffer= allocate(shape=(n,), dtype=np.uint16)"
   ]
  },
  {
   "cell_type": "code",
   "execution_count": 67,
   "metadata": {},
   "outputs": [],
   "source": [
    "# generate the inputs\n",
    "input_value = np.random.randint(1,2**63-1,n, dtype=np.uint64)\n",
    "#input_value = np.ones(n)*980224589148123649\n",
    "# convert into int64\n",
    "input_value = input_value.astype(np.uint64)\n",
    "# load to the input buffer\n",
    "np.copyto(input_buffer,input_value)"
   ]
  },
  {
   "cell_type": "markdown",
   "metadata": {},
   "source": [
    "## Taylor expansion"
   ]
  },
  {
   "cell_type": "markdown",
   "metadata": {},
   "source": [
    "##  Computation time"
   ]
  },
  {
   "cell_type": "code",
   "execution_count": 68,
   "metadata": {},
   "outputs": [
    {
     "name": "stdout",
     "output_type": "stream",
     "text": [
      "0.007274031639099121\n"
     ]
    }
   ],
   "source": [
    "time_pl_arr = []\n",
    "for i in range(50):\n",
    "    time_s=time.time()\n",
    "    te_dma.sendchannel.transfer(input_buffer)\n",
    "    te_dma.recvchannel.transfer(output_buffer)\n",
    "\n",
    "    te_dma.sendchannel.wait()\n",
    "    te_dma.recvchannel.wait()\n",
    "    time_pl=time.time()-time_s\n",
    "    time_pl_arr.append(time_pl)\n",
    "time_pl = np.mean(time_pl_arr)\n",
    "std_time_pl = np.std(time_pl_arr)\n",
    "print(time_pl)"
   ]
  },
  {
   "cell_type": "code",
   "execution_count": 69,
   "metadata": {},
   "outputs": [],
   "source": [
    "#Conversion from fixed point to readable number\n",
    "out_pl=output_buffer/(2**10)"
   ]
  },
  {
   "cell_type": "markdown",
   "metadata": {},
   "source": [
    "## Processor computation time"
   ]
  },
  {
   "cell_type": "code",
   "execution_count": 70,
   "metadata": {},
   "outputs": [
    {
     "name": "stdout",
     "output_type": "stream",
     "text": [
      "0.37192936420440675\n"
     ]
    }
   ],
   "source": [
    "time_ps_arr = []\n",
    "for i in range(50):\n",
    "    time_s=time.time()\n",
    "    out_ps=np.log2(input_value)\n",
    "    time_ps=time.time()-time_s\n",
    "    time_ps_arr.append(time_ps)\n",
    "time_ps = np.mean(time_ps_arr)\n",
    "std_time_ps = np.std(time_ps_arr)\n",
    "print(time_ps)"
   ]
  },
  {
   "cell_type": "markdown",
   "metadata": {},
   "source": [
    "### Computation time comparison"
   ]
  },
  {
   "cell_type": "code",
   "execution_count": 71,
   "metadata": {},
   "outputs": [
    {
     "name": "stdout",
     "output_type": "stream",
     "text": [
      "1048576 input samples\n",
      "PL computation time = 0.007274+/-0.000566 s\n",
      "PS computation time = 0.371929+/-0.000510  s\n",
      "PL computation time per sample = 6.937057e-09+/-5.395311e-10 s\n",
      "PS computation time per sample = 3.546995e-07+/-4.864525e-10 s\n",
      "PL is 51.131117 times faster than the PS\n"
     ]
    }
   ],
   "source": [
    "print(\"%d input samples\" % n)\n",
    "print(\"PL computation time = %f+/-%f s\" % (time_pl, std_time_pl))\n",
    "print(\"PS computation time = %f+/-%f  s\" % (time_ps, std_time_ps))\n",
    "print(\"PL computation time per sample = %e+/-%e s\" % (time_pl/n, std_time_pl/n))\n",
    "print(\"PS computation time per sample = %e+/-%e s\" % (time_ps/n, std_time_ps/n))\n",
    "print(\"PL is %f times faster than the PS\" % (time_ps/time_pl))"
   ]
  },
  {
   "cell_type": "markdown",
   "metadata": {},
   "source": [
    "## Error evaluation"
   ]
  },
  {
   "cell_type": "code",
   "execution_count": 72,
   "metadata": {},
   "outputs": [],
   "source": [
    "input_value_sort = np.sort(input_value, kind='heapsort')\n",
    "out_ps_sort      = np.sort(out_ps     , kind='heapsort')"
   ]
  },
  {
   "cell_type": "code",
   "execution_count": 73,
   "metadata": {},
   "outputs": [
    {
     "data": {
      "image/png": "[encoded data removed]",
      "text/plain": [
       "<matplotlib.figure.Figure at 0xaedffc50>"
      ]
     },
     "metadata": {},
     "output_type": "display_data"
    }
   ],
   "source": [
    "#######################################################################\n",
    "# FIGURE\n",
    "#######################################################################\n",
    "fig = plt.figure(figsize=(10,4))\n",
    "# plt.axes(axisbelow=True)\n",
    "\n",
    "\n",
    "\n",
    "#######################################################################\n",
    "##### TOP PANEL\n",
    "#######################################################################\n",
    "fig.add_axes((0.,0.35,1.0,1.0))\n",
    "\n",
    "\n",
    "\n",
    "plt.plot(input_value    ,out_pl      , '.', label=\"PL\")\n",
    "plt.plot(input_value_sort,out_ps_sort, '-', label=\"PS\")\n",
    "plt.title('PYNQ: Taylor expasnion result')\n",
    "plt.xlabel('Input')\n",
    "plt.ylabel('Log$_2$ result')\n",
    "plt.grid(True)\n",
    "plt.legend()\n",
    "\n",
    "#######################################################################\n",
    "##### SAVE FIGURE\n",
    "#######################################################################\n",
    "fig.savefig(SAVE_PATH + \"PYNQ_TE_res\", bbox_inches='tight')\n",
    "#######################################################################\n",
    "\n",
    "plt.show()"
   ]
  },
  {
   "cell_type": "code",
   "execution_count": 74,
   "metadata": {},
   "outputs": [],
   "source": [
    "error_a = (out_ps-out_pl)\n",
    "error_r = (out_ps-out_pl)/out_ps"
   ]
  },
  {
   "cell_type": "markdown",
   "metadata": {},
   "source": [
    "### Relative error distribution"
   ]
  },
  {
   "cell_type": "code",
   "execution_count": 75,
   "metadata": {},
   "outputs": [
    {
     "data": {
      "image/png": "[encoded data removed]",
      "text/plain": [
       "<matplotlib.figure.Figure at 0xae6e3b10>"
      ]
     },
     "metadata": {},
     "output_type": "display_data"
    }
   ],
   "source": [
    "plt.hist(error_r,bins=120)\n",
    "plt.semilogy()\n",
    "plt.grid(True)\n",
    "plt.show()"
   ]
  },
  {
   "cell_type": "code",
   "execution_count": 76,
   "metadata": {},
   "outputs": [
    {
     "name": "stdout",
     "output_type": "stream",
     "text": [
      "Mean relative error distribution               = -0.000698 \n",
      "Standard deviation relative error distribution = 0.000898 \n"
     ]
    }
   ],
   "source": [
    "print(\"Mean relative error distribution               = %f \" % np.mean(error_r))\n",
    "print(\"Standard deviation relative error distribution = %f \" % np.std(error_r))"
   ]
  },
  {
   "cell_type": "markdown",
   "metadata": {},
   "source": [
    "### Absolute error distribution"
   ]
  },
  {
   "cell_type": "code",
   "execution_count": 77,
   "metadata": {},
   "outputs": [
    {
     "data": {
      "image/png": "[encoded data removed]",
      "text/plain": [
       "<matplotlib.figure.Figure at 0xaedbcd90>"
      ]
     },
     "metadata": {},
     "output_type": "display_data"
    }
   ],
   "source": [
    "#######################################################################\n",
    "# FIGURE\n",
    "#######################################################################\n",
    "fig = plt.figure(figsize=(10,4))\n",
    "# plt.axes(axisbelow=True)\n",
    "\n",
    "#######################################################################\n",
    "##### TOP PANEL\n",
    "#######################################################################\n",
    "fig.add_axes((0.,0.35,1.0,1.0))\n",
    "\n",
    "plt.hist(error_a,bins=120)\n",
    "plt.title('PYNQ: Taylor expansion error distribution')\n",
    "plt.xlabel('Error')\n",
    "plt.semilogy()\n",
    "plt.grid(True)\n",
    "\n",
    "#######################################################################\n",
    "##### SAVE FIGURE\n",
    "#######################################################################\n",
    "fig.savefig(SAVE_PATH + \"PYNQ_TE_LOG_error\", bbox_inches='tight')\n",
    "#######################################################################\n",
    "\n",
    "plt.show()"
   ]
  },
  {
   "cell_type": "code",
   "execution_count": 78,
   "metadata": {},
   "outputs": [
    {
     "name": "stdout",
     "output_type": "stream",
     "text": [
      "Mean absolute error distribution               = -0.043163 \n",
      "Standard deviation absolute error distribution = 0.055584 \n"
     ]
    }
   ],
   "source": [
    "print(\"Mean absolute error distribution               = %f \" % np.mean(error_a))\n",
    "print(\"Standard deviation absolute error distribution = %f \" % np.std(error_a))"
   ]
  },
  {
   "cell_type": "markdown",
   "metadata": {},
   "source": [
    "## LUT "
   ]
  },
  {
   "cell_type": "code",
   "execution_count": 79,
   "metadata": {},
   "outputs": [
    {
     "name": "stdout",
     "output_type": "stream",
     "text": [
      "0.007191462516784668\n"
     ]
    }
   ],
   "source": [
    "time_pl_arr = []\n",
    "for i in range(50):\n",
    "    time_s=time.time()\n",
    "    lut_dma.sendchannel.transfer(input_buffer)\n",
    "    lut_dma.recvchannel.transfer(output_buffer)\n",
    "\n",
    "    lut_dma.sendchannel.wait()\n",
    "    lut_dma.recvchannel.wait()\n",
    "    time_pl=time.time()-time_s\n",
    "    time_pl_arr.append(time_pl)\n",
    "time_pl = np.mean(time_pl_arr)\n",
    "std_time_pl = np.std(time_pl_arr)\n",
    "print(time_pl)"
   ]
  },
  {
   "cell_type": "code",
   "execution_count": 80,
   "metadata": {},
   "outputs": [],
   "source": [
    "#Conversion from fixed point to readable number\n",
    "out_pl=output_buffer/(2**10)"
   ]
  },
  {
   "cell_type": "code",
   "execution_count": 81,
   "metadata": {},
   "outputs": [
    {
     "name": "stdout",
     "output_type": "stream",
     "text": [
      "0.3725036859512329\n"
     ]
    }
   ],
   "source": [
    "time_ps_arr = []\n",
    "for i in range(50):\n",
    "    time_s=time.time()\n",
    "    out_ps=np.log2(input_value)\n",
    "    time_ps=time.time()-time_s\n",
    "    time_ps_arr.append(time_ps)\n",
    "time_ps = np.mean(time_ps_arr)\n",
    "std_time_ps = np.std(time_ps_arr)\n",
    "print(time_ps)"
   ]
  },
  {
   "cell_type": "code",
   "execution_count": 82,
   "metadata": {},
   "outputs": [
    {
     "name": "stdout",
     "output_type": "stream",
     "text": [
      "1048576 input samples\n",
      "PL computation time = 0.007191+/-0.000149 s\n",
      "PS computation time = 0.372504+/-0.000172  s\n",
      "PL computation time per sample = 6.858313e-09+/-1.425085e-10 s\n",
      "PS computation time per sample = 3.552472e-07+/-1.636161e-10 s\n",
      "PL is 51.798043 times faster than the PS\n"
     ]
    }
   ],
   "source": [
    "print(\"%d input samples\" % n)\n",
    "print(\"PL computation time = %f+/-%f s\" % (time_pl, std_time_pl))\n",
    "print(\"PS computation time = %f+/-%f  s\" % (time_ps, std_time_ps))\n",
    "print(\"PL computation time per sample = %e+/-%e s\" % (time_pl/n, std_time_pl/n))\n",
    "print(\"PS computation time per sample = %e+/-%e s\" % (time_ps/n, std_time_ps/n))\n",
    "print(\"PL is %f times faster than the PS\" % (time_ps/time_pl))"
   ]
  },
  {
   "cell_type": "code",
   "execution_count": 83,
   "metadata": {},
   "outputs": [],
   "source": [
    "input_value_sort = np.sort(input_value, kind='heapsort')\n",
    "out_ps_sort      = np.sort(out_ps     , kind='heapsort')"
   ]
  },
  {
   "cell_type": "code",
   "execution_count": 84,
   "metadata": {},
   "outputs": [
    {
     "data": {
      "image/png": "[encoded data removed]",
      "text/plain": [
       "<matplotlib.figure.Figure at 0xae6f2db0>"
      ]
     },
     "metadata": {},
     "output_type": "display_data"
    }
   ],
   "source": [
    "#######################################################################\n",
    "# FIGURE\n",
    "#######################################################################\n",
    "fig = plt.figure(figsize=(10,4))\n",
    "# plt.axes(axisbelow=True)\n",
    "\n",
    "\n",
    "\n",
    "#######################################################################\n",
    "##### TOP PANEL\n",
    "#######################################################################\n",
    "fig.add_axes((0.,0.35,1.0,1.0))\n",
    "\n",
    "\n",
    "\n",
    "plt.plot(input_value    ,out_pl      , '.', label=\"PL\")\n",
    "plt.plot(input_value_sort,out_ps_sort, '-', label=\"PS\")\n",
    "plt.title('PYNQ: LUT result')\n",
    "plt.xlabel('Input')\n",
    "plt.ylabel('Log$_2$ result')\n",
    "plt.grid(True)\n",
    "plt.legend()\n",
    "\n",
    "#######################################################################\n",
    "##### SAVE FIGURE\n",
    "#######################################################################\n",
    "fig.savefig(SAVE_PATH + \"PYNQ_LUT_res\", bbox_inches='tight')\n",
    "#######################################################################\n",
    "\n",
    "plt.show()"
   ]
  },
  {
   "cell_type": "code",
   "execution_count": 85,
   "metadata": {},
   "outputs": [],
   "source": [
    "error_a = (out_ps-out_pl)\n",
    "error_r = (out_ps-out_pl)/out_ps"
   ]
  },
  {
   "cell_type": "code",
   "execution_count": 86,
   "metadata": {},
   "outputs": [
    {
     "data": {
      "image/png": "[encoded data removed]",
      "text/plain": [
       "<matplotlib.figure.Figure at 0xae6cbbb0>"
      ]
     },
     "metadata": {},
     "output_type": "display_data"
    }
   ],
   "source": [
    "plt.hist(error_r,bins=120)\n",
    "plt.semilogy()\n",
    "plt.grid(True)\n",
    "plt.show()"
   ]
  },
  {
   "cell_type": "code",
   "execution_count": 87,
   "metadata": {},
   "outputs": [
    {
     "name": "stdout",
     "output_type": "stream",
     "text": [
      "Mean relative error distribution               = 0.000008 \n",
      "Standard deviation relative error distribution = 0.000007 \n"
     ]
    }
   ],
   "source": [
    "print(\"Mean relative error distribution               = %f \" % np.mean(error_r))\n",
    "print(\"Standard deviation relative error distribution = %f \" % np.std(error_r))"
   ]
  },
  {
   "cell_type": "code",
   "execution_count": 88,
   "metadata": {},
   "outputs": [
    {
     "data": {
      "image/png": "[encoded data removed]",
      "text/plain": [
       "<matplotlib.figure.Figure at 0xae677f90>"
      ]
     },
     "metadata": {},
     "output_type": "display_data"
    }
   ],
   "source": [
    "#######################################################################\n",
    "# FIGURE\n",
    "#######################################################################\n",
    "fig = plt.figure(figsize=(10,4))\n",
    "# plt.axes(axisbelow=True)\n",
    "\n",
    "#######################################################################\n",
    "##### TOP PANEL\n",
    "#######################################################################\n",
    "fig.add_axes((0.,0.35,1.0,1.0))\n",
    "\n",
    "plt.hist(error_a,bins=120)\n",
    "plt.title('PYNQ: LUT error distribution')\n",
    "plt.xlabel('Error')\n",
    "plt.semilogy()\n",
    "plt.grid(True)\n",
    "\n",
    "#######################################################################\n",
    "##### SAVE FIGURE\n",
    "#######################################################################\n",
    "fig.savefig(SAVE_PATH + \"PYNQ_LUT_LOG_error\", bbox_inches='tight')\n",
    "#######################################################################\n",
    "\n",
    "plt.show()"
   ]
  },
  {
   "cell_type": "code",
   "execution_count": 89,
   "metadata": {},
   "outputs": [
    {
     "name": "stdout",
     "output_type": "stream",
     "text": [
      "Mean absolute error distribution               = 0.000492 \n",
      "Standard deviation absolute error distribution = 0.000412 \n"
     ]
    }
   ],
   "source": [
    "print(\"Mean absolute error distribution               = %f \" % np.mean(error_a))\n",
    "print(\"Standard deviation absolute error distribution = %f \" % np.std(error_a))"
   ]
  },
  {
   "cell_type": "markdown",
   "metadata": {},
   "source": [
    "## Polyfit"
   ]
  },
  {
   "cell_type": "code",
   "execution_count": 90,
   "metadata": {},
   "outputs": [
    {
     "name": "stdout",
     "output_type": "stream",
     "text": [
      "0.007213315963745117\n"
     ]
    }
   ],
   "source": [
    "time_pl_arr = []\n",
    "for i in range(50):\n",
    "    time_s=time.time()\n",
    "    poly_dma.sendchannel.transfer(input_buffer)\n",
    "    poly_dma.recvchannel.transfer(output_buffer)\n",
    "\n",
    "    poly_dma.sendchannel.wait()\n",
    "    poly_dma.recvchannel.wait()\n",
    "    time_pl=time.time()-time_s\n",
    "    time_pl_arr.append(time_pl)\n",
    "time_pl = np.mean(time_pl_arr)\n",
    "std_time_pl = np.std(time_pl_arr)\n",
    "print(time_pl)"
   ]
  },
  {
   "cell_type": "code",
   "execution_count": 91,
   "metadata": {},
   "outputs": [],
   "source": [
    "#Conversion from fixed point to readable number\n",
    "out_pl=output_buffer/(2**10)"
   ]
  },
  {
   "cell_type": "code",
   "execution_count": 92,
   "metadata": {},
   "outputs": [
    {
     "name": "stdout",
     "output_type": "stream",
     "text": [
      "0.3636037874221802\n"
     ]
    }
   ],
   "source": [
    "time_ps_arr = []\n",
    "for i in range(50):\n",
    "    time_s=time.time()\n",
    "    out_ps=np.log2(input_value)\n",
    "    time_ps=time.time()-time_s\n",
    "    time_ps_arr.append(time_ps)\n",
    "time_ps = np.mean(time_ps_arr)\n",
    "std_time_ps = np.std(time_ps_arr)\n",
    "print(time_ps)"
   ]
  },
  {
   "cell_type": "code",
   "execution_count": 93,
   "metadata": {},
   "outputs": [
    {
     "name": "stdout",
     "output_type": "stream",
     "text": [
      "1048576 input samples\n",
      "PL computation time = 0.007213+/-0.000456 s\n",
      "PS computation time = 0.363604+/-0.000490  s\n",
      "PL computation time per sample = 6.879154e-09+/-4.347889e-10 s\n",
      "PS computation time per sample = 3.467596e-07+/-4.677665e-10 s\n",
      "PL is 50.407301 times faster than the PS\n"
     ]
    }
   ],
   "source": [
    "print(\"%d input samples\" % n)\n",
    "print(\"PL computation time = %f+/-%f s\" % (time_pl, std_time_pl))\n",
    "print(\"PS computation time = %f+/-%f  s\" % (time_ps, std_time_ps))\n",
    "print(\"PL computation time per sample = %e+/-%e s\" % (time_pl/n, std_time_pl/n))\n",
    "print(\"PS computation time per sample = %e+/-%e s\" % (time_ps/n, std_time_ps/n))\n",
    "print(\"PL is %f times faster than the PS\" % (time_ps/time_pl))"
   ]
  },
  {
   "cell_type": "code",
   "execution_count": 94,
   "metadata": {},
   "outputs": [],
   "source": [
    "input_value_sort = np.sort(input_value, kind='heapsort')\n",
    "out_ps_sort      = np.sort(out_ps     , kind='heapsort')"
   ]
  },
  {
   "cell_type": "code",
   "execution_count": 95,
   "metadata": {},
   "outputs": [
    {
     "data": {
      "image/png": "[encoded data removed]",
      "text/plain": [
       "<matplotlib.figure.Figure at 0xaedf1550>"
      ]
     },
     "metadata": {},
     "output_type": "display_data"
    }
   ],
   "source": [
    "#######################################################################\n",
    "# FIGURE\n",
    "#######################################################################\n",
    "fig = plt.figure(figsize=(10,4))\n",
    "# plt.axes(axisbelow=True)\n",
    "\n",
    "\n",
    "\n",
    "#######################################################################\n",
    "##### TOP PANEL\n",
    "#######################################################################\n",
    "fig.add_axes((0.,0.35,1.0,1.0))\n",
    "\n",
    "\n",
    "\n",
    "plt.plot(input_value    ,out_pl      , '.', label=\"PL\")\n",
    "plt.plot(input_value_sort,out_ps_sort, '-', label=\"PS\")\n",
    "plt.title('PYNQ: POLY result')\n",
    "plt.xlabel('Input')\n",
    "plt.ylabel('Log$_2$ result')\n",
    "plt.grid(True)\n",
    "plt.legend()\n",
    "\n",
    "#######################################################################\n",
    "##### SAVE FIGURE\n",
    "#######################################################################\n",
    "fig.savefig(SAVE_PATH + \"PYNQ_POLY_res\", bbox_inches='tight')\n",
    "#######################################################################\n",
    "\n",
    "plt.show()"
   ]
  },
  {
   "cell_type": "code",
   "execution_count": 96,
   "metadata": {},
   "outputs": [],
   "source": [
    "error_a = (out_ps-out_pl)\n",
    "error_r = (out_ps-out_pl)/out_ps"
   ]
  },
  {
   "cell_type": "code",
   "execution_count": 97,
   "metadata": {},
   "outputs": [
    {
     "data": {
      "image/png": "[encoded data removed]",
      "text/plain": [
       "<matplotlib.figure.Figure at 0xae7793b0>"
      ]
     },
     "metadata": {},
     "output_type": "display_data"
    }
   ],
   "source": [
    "plt.hist(error_r,bins=120)\n",
    "plt.semilogy()\n",
    "plt.grid(True)\n",
    "plt.show()"
   ]
  },
  {
   "cell_type": "code",
   "execution_count": 98,
   "metadata": {},
   "outputs": [
    {
     "name": "stdout",
     "output_type": "stream",
     "text": [
      "Mean relative error distribution               = 0.000019 \n",
      "Standard deviation relative error distribution = 0.000011 \n"
     ]
    }
   ],
   "source": [
    "print(\"Mean relative error distribution               = %f \" % np.mean(error_r))\n",
    "print(\"Standard deviation relative error distribution = %f \" % np.std(error_r))"
   ]
  },
  {
   "cell_type": "code",
   "execution_count": 99,
   "metadata": {},
   "outputs": [
    {
     "data": {
      "image/png": "[encoded data removed]",
      "text/plain": [
       "<matplotlib.figure.Figure at 0xaedb6b10>"
      ]
     },
     "metadata": {},
     "output_type": "display_data"
    }
   ],
   "source": [
    "#######################################################################\n",
    "# FIGURE\n",
    "#######################################################################\n",
    "fig = plt.figure(figsize=(10,4))\n",
    "# plt.axes(axisbelow=True)\n",
    "\n",
    "#######################################################################\n",
    "##### TOP PANEL\n",
    "#######################################################################\n",
    "fig.add_axes((0.,0.35,1.0,1.0))\n",
    "\n",
    "plt.hist(error_a,bins=120)\n",
    "plt.title('PYNQ: POLY error distribution')\n",
    "plt.xlabel('Error')\n",
    "plt.semilogy()\n",
    "plt.grid(True)\n",
    "\n",
    "#######################################################################\n",
    "##### SAVE FIGURE\n",
    "#######################################################################\n",
    "fig.savefig(SAVE_PATH + \"PYNQ_POLY_LOG_error\", bbox_inches='tight')\n",
    "#######################################################################\n",
    "\n",
    "plt.show()"
   ]
  },
  {
   "cell_type": "code",
   "execution_count": 100,
   "metadata": {},
   "outputs": [
    {
     "name": "stdout",
     "output_type": "stream",
     "text": [
      "Mean absolute error distribution               = 0.001180 \n",
      "Standard deviation absolute error distribution = 0.000701 \n"
     ]
    }
   ],
   "source": [
    "print(\"Mean absolute error distribution               = %f \" % np.mean(error_a))\n",
    "print(\"Standard deviation absolute error distribution = %f \" % np.std(error_a))"
   ]
  },
  {
   "cell_type": "code",
   "execution_count": null,
   "metadata": {},
   "outputs": [],
   "source": []
  }
 ],
 "metadata": {
  "kernelspec": {
   "display_name": "Python 3",
   "language": "python",
   "name": "python3"
  },
  "language_info": {
   "codemirror_mode": {
    "name": "ipython",
    "version": 3
   },
   "file_extension": ".py",
   "mimetype": "text/x-python",
   "name": "python",
   "nbconvert_exporter": "python",
   "pygments_lexer": "ipython3",
   "version": "3.6.5"
  }
 },
 "nbformat": 4,
 "nbformat_minor": 2
}
